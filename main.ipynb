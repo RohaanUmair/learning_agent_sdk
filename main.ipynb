{
 "cells": [
  {
   "cell_type": "markdown",
   "id": "26a6562c",
   "metadata": {},
   "source": [
    "# Agent Setup"
   ]
  },
  {
   "cell_type": "code",
   "execution_count": 1,
   "id": "f1b7e832",
   "metadata": {},
   "outputs": [],
   "source": [
    "import os\n",
    "from dotenv import load_dotenv\n",
    "from agents import Agent, Runner, AsyncOpenAI, OpenAIChatCompletionsModel, function_tool\n",
    "from agents.run import RunConfig\n",
    "from pydantic import BaseModel\n",
    "\n",
    "\n",
    "load_dotenv()\n",
    "\n",
    "\n",
    "GEMINI_API_KEY = os.getenv('GEMINI_API_KEY')\n",
    "\n",
    "if not GEMINI_API_KEY:\n",
    "    raise ValueError('Gemini API Key is not valid.')\n",
    "\n",
    "\n",
    "external_client = AsyncOpenAI(\n",
    "    api_key=GEMINI_API_KEY,\n",
    "    base_url=\"https://generativelanguage.googleapis.com/v1beta/openai/\"\n",
    ")\n",
    "\n",
    "model = OpenAIChatCompletionsModel(\n",
    "    model='gemini-2.0-flash',\n",
    "    openai_client=external_client\n",
    ")\n",
    "\n",
    "config = RunConfig(\n",
    "    model=model,\n",
    "    model_provider=external_client,\n",
    "    tracing_disabled=True\n",
    ")"
   ]
  },
  {
   "cell_type": "markdown",
   "id": "b5c7b9b1",
   "metadata": {},
   "source": [
    "## Tool raising error"
   ]
  },
  {
   "cell_type": "code",
   "execution_count": 8,
   "id": "ac8e8948",
   "metadata": {},
   "outputs": [
    {
     "name": "stdout",
     "output_type": "stream",
     "text": [
      "divide tool called\n",
      "I am sorry, I cannot fulfill this request. The tool returned an error. Please try again.\n",
      "\n"
     ]
    }
   ],
   "source": [
    "@function_tool\n",
    "def divide(a: float, b: float) -> float:\n",
    "    '''\n",
    "    Performs division between two numbers\n",
    "\n",
    "    Args:\n",
    "        a: dividend\n",
    "        b: diviser\n",
    "    '''\n",
    "\n",
    "    print('divide tool called')\n",
    "    # return a / b\n",
    "    raise ValueError('Not Good values')\n",
    "\n",
    "\n",
    "agent = Agent(\n",
    "    name='Supportive Agent',\n",
    "    instructions='Give helpful and concise answers',\n",
    "    model=model,\n",
    "    tools=[divide]\n",
    ")\n",
    "\n",
    "res = await Runner.run(agent, 'What is 8/2?', run_config=config)\n",
    "print(res.final_output)"
   ]
  }
 ],
 "metadata": {
  "kernelspec": {
   "display_name": "Python 3",
   "language": "python",
   "name": "python3"
  },
  "language_info": {
   "codemirror_mode": {
    "name": "ipython",
    "version": 3
   },
   "file_extension": ".py",
   "mimetype": "text/x-python",
   "name": "python",
   "nbconvert_exporter": "python",
   "pygments_lexer": "ipython3",
   "version": "3.13.3"
  }
 },
 "nbformat": 4,
 "nbformat_minor": 5
}
